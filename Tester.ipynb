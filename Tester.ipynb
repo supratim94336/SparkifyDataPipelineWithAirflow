{
 "cells": [
  {
   "cell_type": "code",
   "execution_count": 13,
   "metadata": {},
   "outputs": [],
   "source": [
    "# import necessary configurations\n",
    "import configparser\n",
    "\n",
    "config = configparser.ConfigParser()\n",
    "config.read_file(open('dwh.cfg'))\n",
    "\n",
    "# amazon aws\n",
    "KEY = config.get('AWS', 'key')\n",
    "SECRET = config.get('AWS', 'secret')\n",
    "\n",
    "# Redshift\n",
    "DWH_DB = config.get('DWH', 'DWH_DB')\n",
    "DWH_DB_USER = config.get('DWH', 'DWH_DB_USER')\n",
    "DWH_DB_PASSWORD = config.get('DWH', 'DWH_DB_PASSWORD')\n",
    "DWH_PORT = config.get('DWH', 'DWH_PORT')\n",
    "DWH_CLUSTER_TYPE = config.get('DWH', 'DWH_CLUSTER_TYPE')\n",
    "DWH_NUM_NODES = config.get('DWH', 'DWH_NUM_NODES')\n",
    "DWH_NODE_TYPE = config.get('DWH', 'DWH_NODE_TYPE')\n",
    "DWH_IAM_ROLE_NAME = config.get('DWH', 'DWH_IAM_ROLE_NAME')\n",
    "DWH_CLUSTER_IDENTIFIER = config.get('DWH', 'DWH_CLUSTER_IDENTIFIER')\n",
    "DWH_SCHEMA = config.get('DWH', 'DWH_SCHEMA')\n",
    "DWH_LOG_STAGING_TABLE = config.get('DWH', 'DWH_LOG_STAGING_TABLE')\n",
    "DWH_SONG_STAGING_TABLE = config.get('DWH', 'DWH_SONG_STAGING_TABLE')\n",
    "DWH_REGION = config.get('DWH', 'DWH_REGION')\n",
    "\n",
    "# s3\n",
    "LOG_JSON_FORMAT = config.get('S3', 'LOG_JSON_FORMAT')\n",
    "S3_BUCKET_LOG_JSON_PATH = config.get('S3', 'S3_BUCKET_LOG_JSON_PATH')\n",
    "S3_BUCKET_SONG_JSON_PATH = config.get('S3', 'S3_BUCKET_SONG_JSON_PATH')"
   ]
  },
  {
   "cell_type": "code",
   "execution_count": null,
   "metadata": {},
   "outputs": [],
   "source": [
    "%load_ext sql"
   ]
  },
  {
   "cell_type": "code",
   "execution_count": null,
   "metadata": {},
   "outputs": [],
   "source": [
    "# save your DWH_ENDPOINT here:\n",
    "DWH_ROLE_ARN = '<fill_it_up_here>'\n",
    "DWH_ENDPOINT = '<fill_it_up_here>'"
   ]
  },
  {
   "cell_type": "code",
   "execution_count": null,
   "metadata": {},
   "outputs": [],
   "source": [
    "# creating connection to your DB in Amazon Redshift\n",
    "conn_string=\"postgresql://{}:{}@{}:{}/{}\".format(DWH_DB_USER, DWH_DB_PASSWORD, DWH_ENDPOINT, DWH_PORT, DWH_DB)\n",
    "print(conn_string)\n",
    "%sql $conn_string"
   ]
  },
  {
   "cell_type": "markdown",
   "metadata": {},
   "source": [
    "#### Check the schema before starting. There should be total 7 tables (including 2 staging, 1 fact and 5 dimensions)"
   ]
  },
  {
   "cell_type": "code",
   "execution_count": null,
   "metadata": {},
   "outputs": [],
   "source": [
    "%%sql\n",
    "select t.table_name\n",
    "from information_schema.tables t\n",
    "where t.table_schema = 'public'\n",
    "order by t.table_name;"
   ]
  },
  {
   "cell_type": "markdown",
   "metadata": {},
   "source": [
    "#### Schema Diagram"
   ]
  },
  {
   "cell_type": "markdown",
   "metadata": {},
   "source": [
    "![title](img/schema.png)"
   ]
  },
  {
   "cell_type": "markdown",
   "metadata": {},
   "source": [
    "#### Most popular songs heard so far!"
   ]
  },
  {
   "cell_type": "code",
   "execution_count": null,
   "metadata": {},
   "outputs": [],
   "source": [
    "qry = \"\"\"\n",
    "      SELECT s.title, count(*) as count\n",
    "      FROM {}.songplays sp\n",
    "      INNER JOIN {}.songs s ON s.song_id = sp.song_id\n",
    "      GROUP BY s.title\n",
    "      ORDER BY count DESC, s.title ASC;\n",
    "      \"\"\".format(DWH_SCHEMA, DWH_SCHEMA)\n",
    "\n",
    "%sql $qry"
   ]
  },
  {
   "cell_type": "markdown",
   "metadata": {},
   "source": [
    "#### Most popular artists and their songs heard so far!"
   ]
  },
  {
   "cell_type": "code",
   "execution_count": null,
   "metadata": {},
   "outputs": [],
   "source": [
    "qry = \"\"\"\n",
    "      SELECT ar.name, s.title, count(*) as count\n",
    "      FROM {}.songplays sp\n",
    "      INNER JOIN {}.songs s ON s.song_id = sp.song_id\n",
    "      INNER JOIN {}.artists ar ON ar.artist_id = sp.artist_id\n",
    "      GROUP BY ar.name, s.title\n",
    "      ORDER BY count DESC, ar.name, s.title ASC;\n",
    "      \"\"\".format(DWH_SCHEMA, DWH_SCHEMA, DWH_SCHEMA)\n",
    "\n",
    "%sql $qry"
   ]
  }
 ],
 "metadata": {
  "kernelspec": {
   "display_name": "Python 3",
   "language": "python",
   "name": "python3"
  },
  "language_info": {
   "codemirror_mode": {
    "name": "ipython",
    "version": 3
   },
   "file_extension": ".py",
   "mimetype": "text/x-python",
   "name": "python",
   "nbconvert_exporter": "python",
   "pygments_lexer": "ipython3",
   "version": "3.6.6"
  }
 },
 "nbformat": 4,
 "nbformat_minor": 1
}
